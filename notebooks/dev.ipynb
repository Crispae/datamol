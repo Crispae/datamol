{
 "cells": [
  {
   "cell_type": "code",
   "execution_count": 1,
   "metadata": {},
   "outputs": [],
   "source": [
    "%load_ext autoreload\n",
    "%autoreload 2\n",
    "    \n",
    "import pathlib\n",
    "\n",
    "import numpy as np\n",
    "import pandas as pd\n",
    "import matplotlib.pyplot as plt\n",
    "\n",
    "from loguru import logger\n",
    "from tqdm.auto import tqdm\n",
    "\n",
    "from rdkit import Chem\n",
    "import datamol as dm"
   ]
  },
  {
   "cell_type": "code",
   "execution_count": 17,
   "metadata": {},
   "outputs": [],
   "source": [
    "smiles_list = [\"CC(=O)Oc1ccccc1C(=O)O\", \"C1OC1CC\", \"c1cc2ccccc2cc1\"]\n",
    "mols = [dm.to_mol(smiles) for smiles in smiles_list]\n",
    "\n",
    "dist_mat, valid_idx = dm.pdist(mols)\n",
    "\n",
    "assert dist_mat.shape == (3, 3)\n",
    "assert dist_mat.sum() == 5.661904761904761\n",
    "\n",
    "assert valid_idx.shape == (3,)\n",
    "assert valid_idx.sum() == 3"
   ]
  },
  {
   "cell_type": "code",
   "execution_count": 16,
   "metadata": {},
   "outputs": [],
   "source": [
    "dist_mat, valid_idx = dm.pdist(mols)\n",
    "\n",
    "assert dist_mat.shape == (3, 3)\n",
    "assert dist_mat.sum() == 5.661904761904761\n",
    "\n",
    "assert valid_idx.shape == (3,)\n",
    "assert valid_idx.sum() == 3"
   ]
  },
  {
   "cell_type": "code",
   "execution_count": 15,
   "metadata": {},
   "outputs": [
    {
     "data": {
      "text/plain": [
       "3"
      ]
     },
     "execution_count": 15,
     "metadata": {},
     "output_type": "execute_result"
    }
   ],
   "source": [
    "valid_idx.sum()"
   ]
  },
  {
   "cell_type": "code",
   "execution_count": null,
   "metadata": {},
   "outputs": [],
   "source": []
  }
 ],
 "metadata": {
  "kernelspec": {
   "display_name": "Python [conda env:datamol]",
   "language": "python",
   "name": "conda-env-datamol-py"
  },
  "language_info": {
   "codemirror_mode": {
    "name": "ipython",
    "version": 3
   },
   "file_extension": ".py",
   "mimetype": "text/x-python",
   "name": "python",
   "nbconvert_exporter": "python",
   "pygments_lexer": "ipython3",
   "version": "3.7.8"
  }
 },
 "nbformat": 4,
 "nbformat_minor": 4
}
