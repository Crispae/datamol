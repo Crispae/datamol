{
 "cells": [
  {
   "cell_type": "code",
   "execution_count": 1,
   "metadata": {},
   "outputs": [],
   "source": [
    "%load_ext autoreload\n",
    "%autoreload 2\n",
    "    \n",
    "import pathlib\n",
    "\n",
    "import numpy as np\n",
    "import pandas as pd\n",
    "import matplotlib.pyplot as plt\n",
    "\n",
    "from loguru import logger\n",
    "from tqdm.auto import tqdm\n",
    "\n",
    "from rdkit import Chem\n",
    "import datamol as dm"
   ]
  },
  {
   "cell_type": "code",
   "execution_count": 2,
   "metadata": {},
   "outputs": [
    {
     "data": {
      "image/png": "[encoded data removed]",
      "text/plain": [
       "<rdkit.Chem.rdchem.Mol at 0x7f688783a030>"
      ]
     },
     "execution_count": 2,
     "metadata": {},
     "output_type": "execute_result"
    }
   ],
   "source": [
    "smiles = \"CC(=O)Oc1ccccc1C(=O)O\"\n",
    "mol = dm.to_mol(smiles)\n",
    "\n",
    "inchi = dm.to_inchi(mol)\n",
    "assert inchi == 'InChI=1S/C9H8O4/c1-6(10)13-8-5-3-2-4-7(8)9(11)12/h2-5H,1H3,(H,11,12)'\n",
    "\n",
    "inchikey = dm.to_inchikey(mol)\n",
    "assert inchikey == 'BSYNRYMUTXBXSQ-UHFFFAOYSA-N'\n",
    "\n",
    "new_mol = dm.from_inchi(inchi)\n",
    "assert dm.to_smiles(new_mol) == smiles\n",
    "\n",
    "assert dm.to_inchi(None) is None\n",
    "assert dm.to_inchikey(None) is None\n",
    "assert dm.from_inchi(None) is None"
   ]
  },
  {
   "cell_type": "code",
   "execution_count": 12,
   "metadata": {},
   "outputs": [],
   "source": [
    "inchi = dm.to_inchi(mol)\n",
    "assert inchi == 'InChI=1S/C9H8O4/c1-6(10)13-8-5-3-2-4-7(8)9(11)12/h2-5H,1H3,(H,11,12)'\n",
    "\n",
    "inchikey = dm.to_inchikey(mol)\n",
    "assert inchikey == 'BSYNRYMUTXBXSQ-UHFFFAOYSA-N'\n",
    "\n",
    "new_mol = dm.from_inchi(inchi)\n",
    "assert dm.to_smiles(new_mol) == smiles\n",
    "\n",
    "assert dm.to_inchi(None) is None\n",
    "assert dm.to_inchikey(None) is None\n",
    "assert dm.from_inchi(None) is None"
   ]
  },
  {
   "cell_type": "code",
   "execution_count": 11,
   "metadata": {},
   "outputs": [],
   "source": []
  },
  {
   "cell_type": "code",
   "execution_count": 7,
   "metadata": {},
   "outputs": [],
   "source": []
  },
  {
   "cell_type": "code",
   "execution_count": null,
   "metadata": {},
   "outputs": [],
   "source": []
  }
 ],
 "metadata": {
  "kernelspec": {
   "display_name": "Python [conda env:datamol]",
   "language": "python",
   "name": "conda-env-datamol-py"
  },
  "language_info": {
   "codemirror_mode": {
    "name": "ipython",
    "version": 3
   },
   "file_extension": ".py",
   "mimetype": "text/x-python",
   "name": "python",
   "nbconvert_exporter": "python",
   "pygments_lexer": "ipython3",
   "version": "3.7.8"
  }
 },
 "nbformat": 4,
 "nbformat_minor": 4
}
