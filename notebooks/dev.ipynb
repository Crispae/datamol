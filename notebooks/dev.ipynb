{
 "cells": [
  {
   "cell_type": "code",
   "execution_count": 1,
   "metadata": {},
   "outputs": [],
   "source": [
    "%load_ext autoreload\n",
    "%autoreload 2\n",
    "    \n",
    "import pathlib\n",
    "\n",
    "import numpy as np\n",
    "import pandas as pd\n",
    "import matplotlib.pyplot as plt\n",
    "\n",
    "from loguru import logger\n",
    "from tqdm.auto import tqdm\n",
    "\n",
    "from rdkit import Chem\n",
    "import datamol as dm"
   ]
  },
  {
   "cell_type": "code",
   "execution_count": 2,
   "metadata": {},
   "outputs": [],
   "source": [
    "import fsspec"
   ]
  },
  {
   "cell_type": "code",
   "execution_count": 3,
   "metadata": {},
   "outputs": [],
   "source": [
    "data_dir = pathlib.Path(\"/home/hadim/Drive/Documents/invivoai/Platform/Libs/datamol/tests/data\")"
   ]
  },
  {
   "cell_type": "code",
   "execution_count": 6,
   "metadata": {},
   "outputs": [],
   "source": [
    "data_path = data_dir / \"freesolv.csv\"\n",
    "df = dm.read_csv(data_path)\n",
    "assert df.shape == (642, 4)\n",
    "assert list(df.columns) == ['iupac', 'smiles', 'expt', 'calc']"
   ]
  },
  {
   "cell_type": "code",
   "execution_count": 5,
   "metadata": {},
   "outputs": [
    {
     "data": {
      "text/plain": [
       "['iupac', 'smiles', 'expt', 'calc']"
      ]
     },
     "execution_count": 5,
     "metadata": {},
     "output_type": "execute_result"
    }
   ],
   "source": [
    "list(df.columns)"
   ]
  },
  {
   "cell_type": "code",
   "execution_count": null,
   "metadata": {},
   "outputs": [],
   "source": [
    "pd.read_excel()"
   ]
  },
  {
   "cell_type": "code",
   "execution_count": 7,
   "metadata": {},
   "outputs": [],
   "source": [
    "data_path = data_dir / \"freesolv.xlsx\"\n",
    "df = dm.read_excel(data_path)\n",
    "assert df.shape == (642, 4)\n",
    "assert list(df.columns) == ['iupac', 'smiles', 'expt', 'calc']"
   ]
  },
  {
   "cell_type": "code",
   "execution_count": 8,
   "metadata": {},
   "outputs": [],
   "source": [
    "data_path = data_dir / \"TUBB3-observations.sdf\"\n",
    "data_path = data_dir / \"TUBB3-observations.sdf.gz\""
   ]
  },
  {
   "cell_type": "code",
   "execution_count": 71,
   "metadata": {},
   "outputs": [
    {
     "data": {
      "text/html": [
       "<div>\n",
       "<style scoped>\n",
       "    .dataframe tbody tr th:only-of-type {\n",
       "        vertical-align: middle;\n",
       "    }\n",
       "\n",
       "    .dataframe tbody tr th {\n",
       "        vertical-align: top;\n",
       "    }\n",
       "\n",
       "    .dataframe thead th {\n",
       "        text-align: right;\n",
       "    }\n",
       "</style>\n",
       "<table border=\"1\" class=\"dataframe\">\n",
       "  <thead>\n",
       "    <tr style=\"text-align: right;\">\n",
       "      <th></th>\n",
       "      <th>smiles</th>\n",
       "      <th>zinc_id</th>\n",
       "      <th>ortholog_name</th>\n",
       "      <th>gene_name</th>\n",
       "      <th>affinity</th>\n",
       "      <th>chembldocid</th>\n",
       "      <th>title</th>\n",
       "      <th>reference.pubmed_id</th>\n",
       "      <th>reference.doi</th>\n",
       "      <th>reference.chembl_id</th>\n",
       "      <th>reference.journal</th>\n",
       "      <th>reference.year</th>\n",
       "    </tr>\n",
       "  </thead>\n",
       "  <tbody>\n",
       "    <tr>\n",
       "      <th>0</th>\n",
       "      <td>COc1ccc(/C=C\\c2cc(OC)c(OC)c(OC)c2)cc1O</td>\n",
       "      <td>ZINC000013452167</td>\n",
       "      <td>TBB3_HUMAN</td>\n",
       "      <td>TUBB3</td>\n",
       "      <td>8.28</td>\n",
       "      <td>73867</td>\n",
       "      <td>None</td>\n",
       "      <td>23332369</td>\n",
       "      <td>None</td>\n",
       "      <td>CHEMBL2390928</td>\n",
       "      <td>Bioorg. Med. Chem.</td>\n",
       "      <td>2013</td>\n",
       "    </tr>\n",
       "    <tr>\n",
       "      <th>1</th>\n",
       "      <td>COc1ccc(/C=C\\c2cc(OC)c(OC)c(OC)c2)cc1O</td>\n",
       "      <td>ZINC000013452167</td>\n",
       "      <td>TBB3_HUMAN</td>\n",
       "      <td>TUBB3</td>\n",
       "      <td>8.24</td>\n",
       "      <td>74832</td>\n",
       "      <td>None</td>\n",
       "      <td>23895532</td>\n",
       "      <td>None</td>\n",
       "      <td>CHEMBL2424583</td>\n",
       "      <td>J. Med. Chem.</td>\n",
       "      <td>2013</td>\n",
       "    </tr>\n",
       "    <tr>\n",
       "      <th>2</th>\n",
       "      <td>COc1ccc(N(C)c2nc(N)nc3[nH]c4ccccc4c23)cc1</td>\n",
       "      <td>ZINC000059184179</td>\n",
       "      <td>TBB3_HUMAN</td>\n",
       "      <td>TUBB3</td>\n",
       "      <td>7.67</td>\n",
       "      <td>73867</td>\n",
       "      <td>None</td>\n",
       "      <td>23332369</td>\n",
       "      <td>None</td>\n",
       "      <td>CHEMBL2390928</td>\n",
       "      <td>Bioorg. Med. Chem.</td>\n",
       "      <td>2013</td>\n",
       "    </tr>\n",
       "    <tr>\n",
       "      <th>3</th>\n",
       "      <td>COc1ccc(N(C)c2nc(C)nc3c2C[C@H](C)C3)cc1</td>\n",
       "      <td>ZINC000072106001</td>\n",
       "      <td>TBB3_HUMAN</td>\n",
       "      <td>TUBB3</td>\n",
       "      <td>7.62</td>\n",
       "      <td>74832</td>\n",
       "      <td>None</td>\n",
       "      <td>23895532</td>\n",
       "      <td>None</td>\n",
       "      <td>CHEMBL2424583</td>\n",
       "      <td>J. Med. Chem.</td>\n",
       "      <td>2013</td>\n",
       "    </tr>\n",
       "    <tr>\n",
       "      <th>4</th>\n",
       "      <td>COc1ccc(N(C)c2nc(C)nc3c2C[C@@H](C)C3)cc1</td>\n",
       "      <td>ZINC000072106002</td>\n",
       "      <td>TBB3_HUMAN</td>\n",
       "      <td>TUBB3</td>\n",
       "      <td>7.62</td>\n",
       "      <td>74832</td>\n",
       "      <td>None</td>\n",
       "      <td>23895532</td>\n",
       "      <td>None</td>\n",
       "      <td>CHEMBL2424583</td>\n",
       "      <td>J. Med. Chem.</td>\n",
       "      <td>2013</td>\n",
       "    </tr>\n",
       "    <tr>\n",
       "      <th>5</th>\n",
       "      <td>CC(=O)O[C@H]1C(=O)[C@]2(C)[C@@H](O)C[C@H]3OC[C...</td>\n",
       "      <td>ZINC000096006020</td>\n",
       "      <td>TBB3_HUMAN</td>\n",
       "      <td>TUBB3</td>\n",
       "      <td>8.11</td>\n",
       "      <td>74832</td>\n",
       "      <td>None</td>\n",
       "      <td>23895532</td>\n",
       "      <td>None</td>\n",
       "      <td>CHEMBL2424583</td>\n",
       "      <td>J. Med. Chem.</td>\n",
       "      <td>2013</td>\n",
       "    </tr>\n",
       "    <tr>\n",
       "      <th>6</th>\n",
       "      <td>CC(=O)O[C@H]1C(=O)[C@]2(C)[C@@H](O)C[C@H]3OC[C...</td>\n",
       "      <td>ZINC000096006020</td>\n",
       "      <td>TBB3_HUMAN</td>\n",
       "      <td>TUBB3</td>\n",
       "      <td>8.04</td>\n",
       "      <td>73867</td>\n",
       "      <td>None</td>\n",
       "      <td>23332369</td>\n",
       "      <td>None</td>\n",
       "      <td>CHEMBL2390928</td>\n",
       "      <td>Bioorg. Med. Chem.</td>\n",
       "      <td>2013</td>\n",
       "    </tr>\n",
       "    <tr>\n",
       "      <th>7</th>\n",
       "      <td>CCN(c1ccc(OC)cc1)c1nc(N)nc2[nH]c3ccccc3c12</td>\n",
       "      <td>ZINC000096271135</td>\n",
       "      <td>TBB3_HUMAN</td>\n",
       "      <td>TUBB3</td>\n",
       "      <td>7.34</td>\n",
       "      <td>73867</td>\n",
       "      <td>None</td>\n",
       "      <td>23332369</td>\n",
       "      <td>None</td>\n",
       "      <td>CHEMBL2390928</td>\n",
       "      <td>Bioorg. Med. Chem.</td>\n",
       "      <td>2013</td>\n",
       "    </tr>\n",
       "    <tr>\n",
       "      <th>8</th>\n",
       "      <td>CCOc1ccc(N(C)c2nc(N)nc3[nH]c4ccccc4c23)cc1</td>\n",
       "      <td>ZINC000096271136</td>\n",
       "      <td>TBB3_HUMAN</td>\n",
       "      <td>TUBB3</td>\n",
       "      <td>7.73</td>\n",
       "      <td>73867</td>\n",
       "      <td>None</td>\n",
       "      <td>23332369</td>\n",
       "      <td>None</td>\n",
       "      <td>CHEMBL2390928</td>\n",
       "      <td>Bioorg. Med. Chem.</td>\n",
       "      <td>2013</td>\n",
       "    </tr>\n",
       "    <tr>\n",
       "      <th>9</th>\n",
       "      <td>COc1ccc(N(C)c2nc(C)nc3c2CCC3)cc1</td>\n",
       "      <td>ZINC000096934257</td>\n",
       "      <td>TBB3_HUMAN</td>\n",
       "      <td>TUBB3</td>\n",
       "      <td>8.09</td>\n",
       "      <td>74832</td>\n",
       "      <td>None</td>\n",
       "      <td>23895532</td>\n",
       "      <td>None</td>\n",
       "      <td>CHEMBL2424583</td>\n",
       "      <td>J. Med. Chem.</td>\n",
       "      <td>2013</td>\n",
       "    </tr>\n",
       "  </tbody>\n",
       "</table>\n",
       "</div>"
      ],
      "text/plain": [
       "                                              smiles           zinc_id  \\\n",
       "0             COc1ccc(/C=C\\c2cc(OC)c(OC)c(OC)c2)cc1O  ZINC000013452167   \n",
       "1             COc1ccc(/C=C\\c2cc(OC)c(OC)c(OC)c2)cc1O  ZINC000013452167   \n",
       "2          COc1ccc(N(C)c2nc(N)nc3[nH]c4ccccc4c23)cc1  ZINC000059184179   \n",
       "3            COc1ccc(N(C)c2nc(C)nc3c2C[C@H](C)C3)cc1  ZINC000072106001   \n",
       "4           COc1ccc(N(C)c2nc(C)nc3c2C[C@@H](C)C3)cc1  ZINC000072106002   \n",
       "5  CC(=O)O[C@H]1C(=O)[C@]2(C)[C@@H](O)C[C@H]3OC[C...  ZINC000096006020   \n",
       "6  CC(=O)O[C@H]1C(=O)[C@]2(C)[C@@H](O)C[C@H]3OC[C...  ZINC000096006020   \n",
       "7         CCN(c1ccc(OC)cc1)c1nc(N)nc2[nH]c3ccccc3c12  ZINC000096271135   \n",
       "8         CCOc1ccc(N(C)c2nc(N)nc3[nH]c4ccccc4c23)cc1  ZINC000096271136   \n",
       "9                   COc1ccc(N(C)c2nc(C)nc3c2CCC3)cc1  ZINC000096934257   \n",
       "\n",
       "  ortholog_name gene_name  affinity  chembldocid title  reference.pubmed_id  \\\n",
       "0    TBB3_HUMAN     TUBB3      8.28        73867  None             23332369   \n",
       "1    TBB3_HUMAN     TUBB3      8.24        74832  None             23895532   \n",
       "2    TBB3_HUMAN     TUBB3      7.67        73867  None             23332369   \n",
       "3    TBB3_HUMAN     TUBB3      7.62        74832  None             23895532   \n",
       "4    TBB3_HUMAN     TUBB3      7.62        74832  None             23895532   \n",
       "5    TBB3_HUMAN     TUBB3      8.11        74832  None             23895532   \n",
       "6    TBB3_HUMAN     TUBB3      8.04        73867  None             23332369   \n",
       "7    TBB3_HUMAN     TUBB3      7.34        73867  None             23332369   \n",
       "8    TBB3_HUMAN     TUBB3      7.73        73867  None             23332369   \n",
       "9    TBB3_HUMAN     TUBB3      8.09        74832  None             23895532   \n",
       "\n",
       "  reference.doi reference.chembl_id   reference.journal  reference.year  \n",
       "0          None       CHEMBL2390928  Bioorg. Med. Chem.            2013  \n",
       "1          None       CHEMBL2424583       J. Med. Chem.            2013  \n",
       "2          None       CHEMBL2390928  Bioorg. Med. Chem.            2013  \n",
       "3          None       CHEMBL2424583       J. Med. Chem.            2013  \n",
       "4          None       CHEMBL2424583       J. Med. Chem.            2013  \n",
       "5          None       CHEMBL2424583       J. Med. Chem.            2013  \n",
       "6          None       CHEMBL2390928  Bioorg. Med. Chem.            2013  \n",
       "7          None       CHEMBL2390928  Bioorg. Med. Chem.            2013  \n",
       "8          None       CHEMBL2390928  Bioorg. Med. Chem.            2013  \n",
       "9          None       CHEMBL2424583       J. Med. Chem.            2013  "
      ]
     },
     "execution_count": 71,
     "metadata": {},
     "output_type": "execute_result"
    }
   ],
   "source": [
    "data_path = data_dir / \"TUBB3-observations.sdf.gz\"\n",
    "\n",
    "df = dm.read_sdf(data_path, as_df=True)\n",
    "mols = dm.read_sdf(data_path, as_df=False)\n",
    "df"
   ]
  },
  {
   "cell_type": "code",
   "execution_count": 74,
   "metadata": {},
   "outputs": [
    {
     "data": {
      "text/plain": [
       "'/tmp/tmpw0fbwmbk'"
      ]
     },
     "execution_count": 74,
     "metadata": {},
     "output_type": "execute_result"
    }
   ],
   "source": [
    "import tempfile\n",
    "\n"
   ]
  },
  {
   "cell_type": "code",
   "execution_count": 77,
   "metadata": {},
   "outputs": [],
   "source": [
    "# dataframe based\n",
    "df = dm.read_sdf(data_path, as_df=True)\n",
    "\n",
    "temp_path = tempfile.mktemp()\n",
    "dm.to_sdf(df, temp_path, smiles_column=\"smiles\")\n",
    "\n",
    "new_df = dm.read_sdf(temp_path, as_df=True)\n",
    "assert df.equals(new_df)\n",
    "\n",
    "# list of mols based\n",
    "mols = dm.read_sdf(data_path, as_df=False)\n",
    "\n",
    "temp_path = tempfile.mktemp()\n",
    "dm.to_sdf(mols, temp_path)\n",
    "\n",
    "new_mols = dm.read_sdf(temp_path, as_df=False)\n",
    "assert [dm.to_smiles(mol) for mol in mols] == [dm.to_smiles(mol) for mol in new_mols]"
   ]
  },
  {
   "cell_type": "code",
   "execution_count": 87,
   "metadata": {},
   "outputs": [],
   "source": [
    "mols = dm.read_sdf(data_path, as_df=False)\n",
    "\n",
    "temp_path = tempfile.mktemp()\n",
    "dm.to_sdf(mols, temp_path)\n",
    "\n",
    "new_mols = dm.read_sdf(temp_path, as_df=False)\n",
    "assert [dm.to_smiles(mol) for mol in mols] == [dm.to_smiles(mol) for mol in new_mols]"
   ]
  },
  {
   "cell_type": "code",
   "execution_count": 86,
   "metadata": {},
   "outputs": [
    {
     "data": {
      "text/plain": [
       "True"
      ]
     },
     "execution_count": 86,
     "metadata": {},
     "output_type": "execute_result"
    }
   ],
   "source": [
    "[dm.to_smiles(mol) for mol in mols] == [dm.to_smiles(mol) for mol in new_mols]"
   ]
  },
  {
   "cell_type": "code",
   "execution_count": 83,
   "metadata": {},
   "outputs": [
    {
     "data": {
      "text/plain": [
       "[<rdkit.Chem.rdchem.Mol at 0x7fc6ca151350>,\n",
       " <rdkit.Chem.rdchem.Mol at 0x7fc6ca1513a0>,\n",
       " <rdkit.Chem.rdchem.Mol at 0x7fc6ca1513f0>,\n",
       " <rdkit.Chem.rdchem.Mol at 0x7fc6ca1514e0>,\n",
       " <rdkit.Chem.rdchem.Mol at 0x7fc6ca151530>,\n",
       " <rdkit.Chem.rdchem.Mol at 0x7fc6ca151580>,\n",
       " <rdkit.Chem.rdchem.Mol at 0x7fc6ca151620>,\n",
       " <rdkit.Chem.rdchem.Mol at 0x7fc6ca151300>,\n",
       " <rdkit.Chem.rdchem.Mol at 0x7fc6ca1516c0>,\n",
       " <rdkit.Chem.rdchem.Mol at 0x7fc6ca151f80>]"
      ]
     },
     "execution_count": 83,
     "metadata": {},
     "output_type": "execute_result"
    }
   ],
   "source": [
    "mols"
   ]
  },
  {
   "cell_type": "code",
   "execution_count": 84,
   "metadata": {},
   "outputs": [
    {
     "data": {
      "text/plain": [
       "[<rdkit.Chem.rdchem.Mol at 0x7fc6c9e301c0>,\n",
       " <rdkit.Chem.rdchem.Mol at 0x7fc6c9e30d50>,\n",
       " <rdkit.Chem.rdchem.Mol at 0x7fc6c9e30e90>,\n",
       " <rdkit.Chem.rdchem.Mol at 0x7fc6c9e30f30>,\n",
       " <rdkit.Chem.rdchem.Mol at 0x7fc6c9e30170>,\n",
       " <rdkit.Chem.rdchem.Mol at 0x7fc6c9e30c60>,\n",
       " <rdkit.Chem.rdchem.Mol at 0x7fc6c9e304e0>,\n",
       " <rdkit.Chem.rdchem.Mol at 0x7fc6c9e30940>,\n",
       " <rdkit.Chem.rdchem.Mol at 0x7fc6c9e30e40>,\n",
       " <rdkit.Chem.rdchem.Mol at 0x7fc6c9e30cb0>]"
      ]
     },
     "execution_count": 84,
     "metadata": {},
     "output_type": "execute_result"
    }
   ],
   "source": [
    "new_mols"
   ]
  }
 ],
 "metadata": {
  "kernelspec": {
   "display_name": "Python [conda env:datamol]",
   "language": "python",
   "name": "conda-env-datamol-py"
  },
  "language_info": {
   "codemirror_mode": {
    "name": "ipython",
    "version": 3
   },
   "file_extension": ".py",
   "mimetype": "text/x-python",
   "name": "python",
   "nbconvert_exporter": "python",
   "pygments_lexer": "ipython3",
   "version": "3.7.8"
  }
 },
 "nbformat": 4,
 "nbformat_minor": 4
}
