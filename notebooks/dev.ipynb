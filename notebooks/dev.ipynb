{
 "cells": [
  {
   "cell_type": "code",
   "execution_count": 1,
   "metadata": {},
   "outputs": [],
   "source": [
    "%load_ext autoreload\n",
    "%autoreload 2\n",
    "    \n",
    "import pathlib\n",
    "\n",
    "import numpy as np\n",
    "import pandas as pd\n",
    "import matplotlib.pyplot as plt\n",
    "\n",
    "from loguru import logger\n",
    "from tqdm.auto import tqdm\n",
    "\n",
    "from rdkit import Chem\n",
    "import datamol as dm"
   ]
  },
  {
   "cell_type": "code",
   "execution_count": 8,
   "metadata": {},
   "outputs": [
    {
     "ename": "ArgumentError",
     "evalue": "Python argument types in\n    rdkit.Chem.rdmolops.RenumberAtoms()\ndid not match C++ signature:\n    RenumberAtoms(RDKit::ROMol mol, boost::python::api::object {lvalue} newOrder)",
     "output_type": "error",
     "traceback": [
      "\u001b[0;31m---------------------------------------------------------------------------\u001b[0m",
      "\u001b[0;31mArgumentError\u001b[0m                             Traceback (most recent call last)",
      "\u001b[0;32m<ipython-input-8-e9463caf0677>\u001b[0m in \u001b[0;36m<module>\u001b[0;34m\u001b[0m\n\u001b[0;32m----> 1\u001b[0;31m \u001b[0mChem\u001b[0m\u001b[0;34m.\u001b[0m\u001b[0mRenumberAtoms\u001b[0m\u001b[0;34m(\u001b[0m\u001b[0;34m)\u001b[0m\u001b[0;34m\u001b[0m\u001b[0;34m\u001b[0m\u001b[0m\n\u001b[0m",
      "\u001b[0;31mArgumentError\u001b[0m: Python argument types in\n    rdkit.Chem.rdmolops.RenumberAtoms()\ndid not match C++ signature:\n    RenumberAtoms(RDKit::ROMol mol, boost::python::api::object {lvalue} newOrder)"
     ]
    }
   ],
   "source": [
    "def randomize_smiles(inchi: str = None, smiles: str = None):\n",
    "\n",
    "    # Init the molecule\n",
    "    if inchi is not None:\n",
    "        mol = Chem.MolFromInchi(inchi)\n",
    "    elif smiles is not None:\n",
    "        mol = Chem.MolFromSmiles(smiles)\n",
    "\n",
    "    mol = Chem.AddHs(mol)\n",
    "\n",
    "    # Rearrange atom indices\n",
    "    ans = list(range(mol.GetNumAtoms()))\n",
    "    np.random.shuffle(ans)\n",
    "    nm = Chem.RenumberAtoms(mol, ans)\n",
    "\n",
    "    # Generate the smiles\n",
    "    return Chem.MolToSmiles(nm, canonical=False, allHsExplicit=True)"
   ]
  }
 ],
 "metadata": {
  "kernelspec": {
   "display_name": "Python [conda env:datamol]",
   "language": "python",
   "name": "conda-env-datamol-py"
  },
  "language_info": {
   "codemirror_mode": {
    "name": "ipython",
    "version": 3
   },
   "file_extension": ".py",
   "mimetype": "text/x-python",
   "name": "python",
   "nbconvert_exporter": "python",
   "pygments_lexer": "ipython3",
   "version": "3.7.8"
  }
 },
 "nbformat": 4,
 "nbformat_minor": 4
}
