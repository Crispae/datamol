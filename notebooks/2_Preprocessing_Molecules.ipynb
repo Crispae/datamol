{
 "cells": [
  {
   "cell_type": "markdown",
   "metadata": {},
   "source": [
    "# Preprocessing Molecules\n",
    "\n",
    "You have a dataset of molecules (SMILES) and you want to preprocess it in order to clean and standardize the molecules. You can use `datamol` to easily design your own preprocessing pipeline and execute in parallel."
   ]
  },
  {
   "cell_type": "code",
   "execution_count": 1,
   "metadata": {},
   "outputs": [],
   "source": [
    "%load_ext autoreload\n",
    "%autoreload 2\n",
    "\n",
    "import matplotlib.pyplot as plt\n",
    "import pandas as pd\n",
    "\n",
    "import datamol as dm"
   ]
  },
  {
   "cell_type": "markdown",
   "metadata": {},
   "source": [
    "The pipeline is applied on every molecules of the dataset and consist on the following steps:\n",
    "\n",
    "- Convert to a mol.\n",
    "- Fix common errors in the mol.\n",
    "- Sanitize the mol.\n",
    "- Standardize the mol.\n",
    "- Generate a standardized SMILES.\n",
    "- Generate SELFIES.\n",
    "- Generate InChi and InChi key.\n",
    "\n",
    "The resulting dataset can then saved as a CSV file or an SDF file (both files will have the exact same information stored)."
   ]
  },
  {
   "cell_type": "code",
   "execution_count": 2,
   "metadata": {},
   "outputs": [
    {
     "name": "stdout",
     "output_type": "stream",
     "text": [
      "(642, 4)\n"
     ]
    },
    {
     "data": {
      "text/html": [
       "<div>\n",
       "<style scoped>\n",
       "    .dataframe tbody tr th:only-of-type {\n",
       "        vertical-align: middle;\n",
       "    }\n",
       "\n",
       "    .dataframe tbody tr th {\n",
       "        vertical-align: top;\n",
       "    }\n",
       "\n",
       "    .dataframe thead th {\n",
       "        text-align: right;\n",
       "    }\n",
       "</style>\n",
       "<table border=\"1\" class=\"dataframe\">\n",
       "  <thead>\n",
       "    <tr style=\"text-align: right;\">\n",
       "      <th></th>\n",
       "      <th>iupac</th>\n",
       "      <th>smiles</th>\n",
       "      <th>expt</th>\n",
       "      <th>calc</th>\n",
       "    </tr>\n",
       "  </thead>\n",
       "  <tbody>\n",
       "    <tr>\n",
       "      <th>0</th>\n",
       "      <td>4-methoxy-N,N-dimethyl-benzamide</td>\n",
       "      <td>CN(C)C(=O)c1ccc(cc1)OC</td>\n",
       "      <td>-11.01</td>\n",
       "      <td>-9.625</td>\n",
       "    </tr>\n",
       "    <tr>\n",
       "      <th>1</th>\n",
       "      <td>methanesulfonyl chloride</td>\n",
       "      <td>CS(=O)(=O)Cl</td>\n",
       "      <td>-4.87</td>\n",
       "      <td>-6.219</td>\n",
       "    </tr>\n",
       "    <tr>\n",
       "      <th>2</th>\n",
       "      <td>3-methylbut-1-ene</td>\n",
       "      <td>CC(C)C=C</td>\n",
       "      <td>1.83</td>\n",
       "      <td>2.452</td>\n",
       "    </tr>\n",
       "    <tr>\n",
       "      <th>3</th>\n",
       "      <td>2-ethylpyrazine</td>\n",
       "      <td>CCc1cnccn1</td>\n",
       "      <td>-5.45</td>\n",
       "      <td>-5.809</td>\n",
       "    </tr>\n",
       "    <tr>\n",
       "      <th>4</th>\n",
       "      <td>heptan-1-ol</td>\n",
       "      <td>CCCCCCCO</td>\n",
       "      <td>-4.21</td>\n",
       "      <td>-2.917</td>\n",
       "    </tr>\n",
       "  </tbody>\n",
       "</table>\n",
       "</div>"
      ],
      "text/plain": [
       "                              iupac                  smiles   expt   calc\n",
       "0  4-methoxy-N,N-dimethyl-benzamide  CN(C)C(=O)c1ccc(cc1)OC -11.01 -9.625\n",
       "1          methanesulfonyl chloride            CS(=O)(=O)Cl  -4.87 -6.219\n",
       "2                 3-methylbut-1-ene                CC(C)C=C   1.83  2.452\n",
       "3                   2-ethylpyrazine              CCc1cnccn1  -5.45 -5.809\n",
       "4                       heptan-1-ol                CCCCCCCO  -4.21 -2.917"
      ]
     },
     "execution_count": 2,
     "metadata": {},
     "output_type": "execute_result"
    }
   ],
   "source": [
    "# Load a dataset\n",
    "data = dm.data.freesolv()\n",
    "print(data.shape)\n",
    "data.head()"
   ]
  },
  {
   "cell_type": "markdown",
   "metadata": {},
   "source": [
    "### Preprocess using `pd.DataFrame.apply`\n",
    "\n",
    "Easy and classic way to perform row-wise operations on a dataframe."
   ]
  },
  {
   "cell_type": "code",
   "execution_count": 3,
   "metadata": {},
   "outputs": [
    {
     "data": {
      "text/html": [
       "<div>\n",
       "<style scoped>\n",
       "    .dataframe tbody tr th:only-of-type {\n",
       "        vertical-align: middle;\n",
       "    }\n",
       "\n",
       "    .dataframe tbody tr th {\n",
       "        vertical-align: top;\n",
       "    }\n",
       "\n",
       "    .dataframe thead th {\n",
       "        text-align: right;\n",
       "    }\n",
       "</style>\n",
       "<table border=\"1\" class=\"dataframe\">\n",
       "  <thead>\n",
       "    <tr style=\"text-align: right;\">\n",
       "      <th></th>\n",
       "      <th>iupac</th>\n",
       "      <th>smiles</th>\n",
       "      <th>expt</th>\n",
       "      <th>calc</th>\n",
       "      <th>standard_smiles</th>\n",
       "      <th>selfies</th>\n",
       "      <th>inchi</th>\n",
       "      <th>inchikey</th>\n",
       "    </tr>\n",
       "  </thead>\n",
       "  <tbody>\n",
       "    <tr>\n",
       "      <th>0</th>\n",
       "      <td>4-methoxy-N,N-dimethyl-benzamide</td>\n",
       "      <td>CN(C)C(=O)c1ccc(cc1)OC</td>\n",
       "      <td>-11.01</td>\n",
       "      <td>-9.625</td>\n",
       "      <td>COc1ccc(C(=O)N(C)C)cc1</td>\n",
       "      <td>[C][O][C][=C][C][=C][Branch1_1][Branch2_3][C][...</td>\n",
       "      <td>InChI=1S/C10H13NO2/c1-11(2)10(12)8-4-6-9(13-3)...</td>\n",
       "      <td>OCGXPFSUJVHRHA-UHFFFAOYSA-N</td>\n",
       "    </tr>\n",
       "    <tr>\n",
       "      <th>1</th>\n",
       "      <td>methanesulfonyl chloride</td>\n",
       "      <td>CS(=O)(=O)Cl</td>\n",
       "      <td>-4.87</td>\n",
       "      <td>-6.219</td>\n",
       "      <td>CS(=O)(=O)Cl</td>\n",
       "      <td>[C][S][Branch1_2][C][=O][Branch1_2][C][=O][Cl]</td>\n",
       "      <td>InChI=1S/CH3ClO2S/c1-5(2,3)4/h1H3</td>\n",
       "      <td>QARBMVPHQWIHKH-UHFFFAOYSA-N</td>\n",
       "    </tr>\n",
       "    <tr>\n",
       "      <th>2</th>\n",
       "      <td>3-methylbut-1-ene</td>\n",
       "      <td>CC(C)C=C</td>\n",
       "      <td>1.83</td>\n",
       "      <td>2.452</td>\n",
       "      <td>C=CC(C)C</td>\n",
       "      <td>[C][=C][C][Branch1_1][C][C][C]</td>\n",
       "      <td>InChI=1S/C5H10/c1-4-5(2)3/h4-5H,1H2,2-3H3</td>\n",
       "      <td>YHQXBTXEYZIYOV-UHFFFAOYSA-N</td>\n",
       "    </tr>\n",
       "    <tr>\n",
       "      <th>3</th>\n",
       "      <td>2-ethylpyrazine</td>\n",
       "      <td>CCc1cnccn1</td>\n",
       "      <td>-5.45</td>\n",
       "      <td>-5.809</td>\n",
       "      <td>CCc1cnccn1</td>\n",
       "      <td>[C][C][C][=C][N][=C][C][=N][Ring1][Branch1_2]</td>\n",
       "      <td>InChI=1S/C6H8N2/c1-2-6-5-7-3-4-8-6/h3-5H,2H2,1H3</td>\n",
       "      <td>KVFIJIWMDBAGDP-UHFFFAOYSA-N</td>\n",
       "    </tr>\n",
       "    <tr>\n",
       "      <th>4</th>\n",
       "      <td>heptan-1-ol</td>\n",
       "      <td>CCCCCCCO</td>\n",
       "      <td>-4.21</td>\n",
       "      <td>-2.917</td>\n",
       "      <td>CCCCCCCO</td>\n",
       "      <td>[C][C][C][C][C][C][C][O]</td>\n",
       "      <td>InChI=1S/C7H16O/c1-2-3-4-5-6-7-8/h8H,2-7H2,1H3</td>\n",
       "      <td>BBMCTIGTTCKYKF-UHFFFAOYSA-N</td>\n",
       "    </tr>\n",
       "  </tbody>\n",
       "</table>\n",
       "</div>"
      ],
      "text/plain": [
       "                              iupac                  smiles   expt   calc  \\\n",
       "0  4-methoxy-N,N-dimethyl-benzamide  CN(C)C(=O)c1ccc(cc1)OC -11.01 -9.625   \n",
       "1          methanesulfonyl chloride            CS(=O)(=O)Cl  -4.87 -6.219   \n",
       "2                 3-methylbut-1-ene                CC(C)C=C   1.83  2.452   \n",
       "3                   2-ethylpyrazine              CCc1cnccn1  -5.45 -5.809   \n",
       "4                       heptan-1-ol                CCCCCCCO  -4.21 -2.917   \n",
       "\n",
       "          standard_smiles                                            selfies  \\\n",
       "0  COc1ccc(C(=O)N(C)C)cc1  [C][O][C][=C][C][=C][Branch1_1][Branch2_3][C][...   \n",
       "1            CS(=O)(=O)Cl     [C][S][Branch1_2][C][=O][Branch1_2][C][=O][Cl]   \n",
       "2                C=CC(C)C                     [C][=C][C][Branch1_1][C][C][C]   \n",
       "3              CCc1cnccn1      [C][C][C][=C][N][=C][C][=N][Ring1][Branch1_2]   \n",
       "4                CCCCCCCO                           [C][C][C][C][C][C][C][O]   \n",
       "\n",
       "                                               inchi  \\\n",
       "0  InChI=1S/C10H13NO2/c1-11(2)10(12)8-4-6-9(13-3)...   \n",
       "1                  InChI=1S/CH3ClO2S/c1-5(2,3)4/h1H3   \n",
       "2          InChI=1S/C5H10/c1-4-5(2)3/h4-5H,1H2,2-3H3   \n",
       "3   InChI=1S/C6H8N2/c1-2-6-5-7-3-4-8-6/h3-5H,2H2,1H3   \n",
       "4     InChI=1S/C7H16O/c1-2-3-4-5-6-7-8/h8H,2-7H2,1H3   \n",
       "\n",
       "                      inchikey  \n",
       "0  OCGXPFSUJVHRHA-UHFFFAOYSA-N  \n",
       "1  QARBMVPHQWIHKH-UHFFFAOYSA-N  \n",
       "2  YHQXBTXEYZIYOV-UHFFFAOYSA-N  \n",
       "3  KVFIJIWMDBAGDP-UHFFFAOYSA-N  \n",
       "4  BBMCTIGTTCKYKF-UHFFFAOYSA-N  "
      ]
     },
     "execution_count": 3,
     "metadata": {},
     "output_type": "execute_result"
    }
   ],
   "source": [
    "smiles_column = \"smiles\"\n",
    "\n",
    "def _preprocess(row):\n",
    "    mol = dm.to_mol(row[smiles_column], ordered=True)\n",
    "    mol = dm.fix_mol(mol)\n",
    "    mol = dm.sanitize_mol(mol, sanifix=True, charge_neutral=False)\n",
    "    mol = dm.standardize_mol(mol, disconnect_metals=False, normalize=True, reionize=True, uncharge=False, stereo=True)\n",
    "\n",
    "    row[\"standard_smiles\"] = dm.standardize_smiles(dm.to_smiles(mol))\n",
    "    row[\"selfies\"] = dm.to_selfies(mol)\n",
    "    row[\"inchi\"] = dm.to_inchi(mol)\n",
    "    row[\"inchikey\"] = dm.to_inchikey(mol)\n",
    "    return row\n",
    "\n",
    "with dm.disable_rdkit_log():\n",
    "    data_clean = data.apply(_preprocess, axis=1)\n",
    "    \n",
    "data_clean.head()"
   ]
  },
  {
   "cell_type": "markdown",
   "metadata": {},
   "source": [
    "### Preprocess using `dm.parallelized`\n",
    "\n",
    "Parallelize the preprocessing. This approach will only be faster if your dataset is very large."
   ]
  },
  {
   "cell_type": "code",
   "execution_count": 5,
   "metadata": {},
   "outputs": [
    {
     "data": {
      "application/vnd.jupyter.widget-view+json": {
       "model_id": "d8801af793b441df9b233cc9f455b57b",
       "version_major": 2,
       "version_minor": 0
      },
      "text/plain": [
       "HBox(children=(HTML(value=''), FloatProgress(value=0.0, max=642.0), HTML(value='')))"
      ]
     },
     "metadata": {},
     "output_type": "display_data"
    },
    {
     "name": "stdout",
     "output_type": "stream",
     "text": [
      "\n"
     ]
    },
    {
     "data": {
      "text/html": [
       "<div>\n",
       "<style scoped>\n",
       "    .dataframe tbody tr th:only-of-type {\n",
       "        vertical-align: middle;\n",
       "    }\n",
       "\n",
       "    .dataframe tbody tr th {\n",
       "        vertical-align: top;\n",
       "    }\n",
       "\n",
       "    .dataframe thead th {\n",
       "        text-align: right;\n",
       "    }\n",
       "</style>\n",
       "<table border=\"1\" class=\"dataframe\">\n",
       "  <thead>\n",
       "    <tr style=\"text-align: right;\">\n",
       "      <th></th>\n",
       "      <th>iupac</th>\n",
       "      <th>smiles</th>\n",
       "      <th>expt</th>\n",
       "      <th>calc</th>\n",
       "      <th>standard_smiles</th>\n",
       "      <th>selfies</th>\n",
       "      <th>inchi</th>\n",
       "      <th>inchikey</th>\n",
       "    </tr>\n",
       "  </thead>\n",
       "  <tbody>\n",
       "    <tr>\n",
       "      <th>0</th>\n",
       "      <td>4-methoxy-N,N-dimethyl-benzamide</td>\n",
       "      <td>CN(C)C(=O)c1ccc(cc1)OC</td>\n",
       "      <td>-11.01</td>\n",
       "      <td>-9.625</td>\n",
       "      <td>COc1ccc(C(=O)N(C)C)cc1</td>\n",
       "      <td>[C][O][C][=C][C][=C][Branch1_1][Branch2_3][C][...</td>\n",
       "      <td>InChI=1S/C10H13NO2/c1-11(2)10(12)8-4-6-9(13-3)...</td>\n",
       "      <td>OCGXPFSUJVHRHA-UHFFFAOYSA-N</td>\n",
       "    </tr>\n",
       "    <tr>\n",
       "      <th>1</th>\n",
       "      <td>methanesulfonyl chloride</td>\n",
       "      <td>CS(=O)(=O)Cl</td>\n",
       "      <td>-4.87</td>\n",
       "      <td>-6.219</td>\n",
       "      <td>CS(=O)(=O)Cl</td>\n",
       "      <td>[C][S][Branch1_2][C][=O][Branch1_2][C][=O][Cl]</td>\n",
       "      <td>InChI=1S/CH3ClO2S/c1-5(2,3)4/h1H3</td>\n",
       "      <td>QARBMVPHQWIHKH-UHFFFAOYSA-N</td>\n",
       "    </tr>\n",
       "    <tr>\n",
       "      <th>2</th>\n",
       "      <td>3-methylbut-1-ene</td>\n",
       "      <td>CC(C)C=C</td>\n",
       "      <td>1.83</td>\n",
       "      <td>2.452</td>\n",
       "      <td>C=CC(C)C</td>\n",
       "      <td>[C][=C][C][Branch1_1][C][C][C]</td>\n",
       "      <td>InChI=1S/C5H10/c1-4-5(2)3/h4-5H,1H2,2-3H3</td>\n",
       "      <td>YHQXBTXEYZIYOV-UHFFFAOYSA-N</td>\n",
       "    </tr>\n",
       "    <tr>\n",
       "      <th>3</th>\n",
       "      <td>2-ethylpyrazine</td>\n",
       "      <td>CCc1cnccn1</td>\n",
       "      <td>-5.45</td>\n",
       "      <td>-5.809</td>\n",
       "      <td>CCc1cnccn1</td>\n",
       "      <td>[C][C][C][=C][N][=C][C][=N][Ring1][Branch1_2]</td>\n",
       "      <td>InChI=1S/C6H8N2/c1-2-6-5-7-3-4-8-6/h3-5H,2H2,1H3</td>\n",
       "      <td>KVFIJIWMDBAGDP-UHFFFAOYSA-N</td>\n",
       "    </tr>\n",
       "    <tr>\n",
       "      <th>4</th>\n",
       "      <td>heptan-1-ol</td>\n",
       "      <td>CCCCCCCO</td>\n",
       "      <td>-4.21</td>\n",
       "      <td>-2.917</td>\n",
       "      <td>CCCCCCCO</td>\n",
       "      <td>[C][C][C][C][C][C][C][O]</td>\n",
       "      <td>InChI=1S/C7H16O/c1-2-3-4-5-6-7-8/h8H,2-7H2,1H3</td>\n",
       "      <td>BBMCTIGTTCKYKF-UHFFFAOYSA-N</td>\n",
       "    </tr>\n",
       "  </tbody>\n",
       "</table>\n",
       "</div>"
      ],
      "text/plain": [
       "                              iupac                  smiles   expt   calc  \\\n",
       "0  4-methoxy-N,N-dimethyl-benzamide  CN(C)C(=O)c1ccc(cc1)OC -11.01 -9.625   \n",
       "1          methanesulfonyl chloride            CS(=O)(=O)Cl  -4.87 -6.219   \n",
       "2                 3-methylbut-1-ene                CC(C)C=C   1.83  2.452   \n",
       "3                   2-ethylpyrazine              CCc1cnccn1  -5.45 -5.809   \n",
       "4                       heptan-1-ol                CCCCCCCO  -4.21 -2.917   \n",
       "\n",
       "          standard_smiles                                            selfies  \\\n",
       "0  COc1ccc(C(=O)N(C)C)cc1  [C][O][C][=C][C][=C][Branch1_1][Branch2_3][C][...   \n",
       "1            CS(=O)(=O)Cl     [C][S][Branch1_2][C][=O][Branch1_2][C][=O][Cl]   \n",
       "2                C=CC(C)C                     [C][=C][C][Branch1_1][C][C][C]   \n",
       "3              CCc1cnccn1      [C][C][C][=C][N][=C][C][=N][Ring1][Branch1_2]   \n",
       "4                CCCCCCCO                           [C][C][C][C][C][C][C][O]   \n",
       "\n",
       "                                               inchi  \\\n",
       "0  InChI=1S/C10H13NO2/c1-11(2)10(12)8-4-6-9(13-3)...   \n",
       "1                  InChI=1S/CH3ClO2S/c1-5(2,3)4/h1H3   \n",
       "2          InChI=1S/C5H10/c1-4-5(2)3/h4-5H,1H2,2-3H3   \n",
       "3   InChI=1S/C6H8N2/c1-2-6-5-7-3-4-8-6/h3-5H,2H2,1H3   \n",
       "4     InChI=1S/C7H16O/c1-2-3-4-5-6-7-8/h8H,2-7H2,1H3   \n",
       "\n",
       "                      inchikey  \n",
       "0  OCGXPFSUJVHRHA-UHFFFAOYSA-N  \n",
       "1  QARBMVPHQWIHKH-UHFFFAOYSA-N  \n",
       "2  YHQXBTXEYZIYOV-UHFFFAOYSA-N  \n",
       "3  KVFIJIWMDBAGDP-UHFFFAOYSA-N  \n",
       "4  BBMCTIGTTCKYKF-UHFFFAOYSA-N  "
      ]
     },
     "execution_count": 5,
     "metadata": {},
     "output_type": "execute_result"
    }
   ],
   "source": [
    "smiles_column = \"smiles\"\n",
    "\n",
    "def _preprocess(i, row):\n",
    "    mol = dm.to_mol(row[smiles_column], ordered=True)\n",
    "    mol = dm.fix_mol(mol)\n",
    "    mol = dm.sanitize_mol(mol, sanifix=True, charge_neutral=False)\n",
    "    mol = dm.standardize_mol(mol, disconnect_metals=False, normalize=True, reionize=True, uncharge=False, stereo=True)\n",
    "\n",
    "    row[\"standard_smiles\"] = dm.standardize_smiles(dm.to_smiles(mol))\n",
    "    row[\"selfies\"] = dm.to_selfies(mol)\n",
    "    row[\"inchi\"] = dm.to_inchi(mol)\n",
    "    row[\"inchikey\"] = dm.to_inchikey(mol)\n",
    "    return row\n",
    "\n",
    "with dm.disable_rdkit_log():\n",
    "    data_clean = dm.parallelized(_preprocess, list(data.iterrows()), arg_type='args', progress=True)\n",
    "    data_clean = pd.DataFrame(data_clean)\n",
    "data_clean.head()"
   ]
  },
  {
   "cell_type": "markdown",
   "metadata": {},
   "source": [
    "### Serialize the cleaned dataset"
   ]
  },
  {
   "cell_type": "code",
   "execution_count": null,
   "metadata": {},
   "outputs": [],
   "source": [
    "# Save as CSV\n",
    "# data_clean.to_csv(\"/my/path\")\n",
    "\n",
    "# Or save as an SDF\n",
    "# dm.to_sdf(data_clean, \"/my/path\", smiles_column=\"standard_smiles\")"
   ]
  },
  {
   "cell_type": "code",
   "execution_count": null,
   "metadata": {},
   "outputs": [],
   "source": []
  }
 ],
 "metadata": {
  "kernelspec": {
   "display_name": "Python [conda env:datamol]",
   "language": "python",
   "name": "conda-env-datamol-py"
  },
  "language_info": {
   "codemirror_mode": {
    "name": "ipython",
    "version": 3
   },
   "file_extension": ".py",
   "mimetype": "text/x-python",
   "name": "python",
   "nbconvert_exporter": "python",
   "pygments_lexer": "ipython3",
   "version": "3.7.8"
  },
  "widgets": {
   "application/vnd.jupyter.widget-state+json": {
    "state": {
     "191a58344afe4d94bcce56b56500777d": {
      "model_module": "@jupyter-widgets/base",
      "model_module_version": "1.2.0",
      "model_name": "LayoutModel",
      "state": {}
     },
     "19399994c047455786a6ce8928f67fd6": {
      "model_module": "@jupyter-widgets/controls",
      "model_module_version": "1.5.0",
      "model_name": "HTMLModel",
      "state": {
       "layout": "IPY_MODEL_6db69a688c1a4f2489ef7a6b4c84ab3c",
       "style": "IPY_MODEL_a13127955d524090b6a78ee457b3fd91",
       "value": " 642/642 [01:11&lt;00:00,  8.95it/s]"
      }
     },
     "273e00ec71f24263969b2dbb38541c7d": {
      "model_module": "@jupyter-widgets/controls",
      "model_module_version": "1.5.0",
      "model_name": "FloatProgressModel",
      "state": {
       "bar_style": "success",
       "layout": "IPY_MODEL_191a58344afe4d94bcce56b56500777d",
       "max": 642,
       "style": "IPY_MODEL_c34bf0d88b654c2a87b26909be4d67f8",
       "value": 642
      }
     },
     "28f0f3a03d414b39a19bad8a75787046": {
      "model_module": "@jupyter-widgets/controls",
      "model_module_version": "1.5.0",
      "model_name": "DescriptionStyleModel",
      "state": {
       "description_width": ""
      }
     },
     "5e7e06906f794c2199920fab1de4b8ad": {
      "model_module": "@jupyter-widgets/controls",
      "model_module_version": "1.5.0",
      "model_name": "DescriptionStyleModel",
      "state": {
       "description_width": ""
      }
     },
     "61b90d4e3eaa49b5b7c4f86a33118067": {
      "model_module": "@jupyter-widgets/controls",
      "model_module_version": "1.5.0",
      "model_name": "ProgressStyleModel",
      "state": {
       "description_width": ""
      }
     },
     "668722dc543e4fe1af0f1179e85893b0": {
      "model_module": "@jupyter-widgets/base",
      "model_module_version": "1.2.0",
      "model_name": "LayoutModel",
      "state": {}
     },
     "6db69a688c1a4f2489ef7a6b4c84ab3c": {
      "model_module": "@jupyter-widgets/base",
      "model_module_version": "1.2.0",
      "model_name": "LayoutModel",
      "state": {}
     },
     "755d0dfb7ea9495aac1e85d3f2bc143d": {
      "model_module": "@jupyter-widgets/controls",
      "model_module_version": "1.5.0",
      "model_name": "HTMLModel",
      "state": {
       "layout": "IPY_MODEL_ee30d369aae04973bf9e80b54feea2a7",
       "style": "IPY_MODEL_db09e68c52974ab38c975f11c91bda8c",
       "value": "100%"
      }
     },
     "96c871e2973944009c09a0cf21d8bb03": {
      "model_module": "@jupyter-widgets/base",
      "model_module_version": "1.2.0",
      "model_name": "LayoutModel",
      "state": {}
     },
     "9c8f5e48006c4803b69e0e42ed86e75b": {
      "model_module": "@jupyter-widgets/base",
      "model_module_version": "1.2.0",
      "model_name": "LayoutModel",
      "state": {}
     },
     "a13127955d524090b6a78ee457b3fd91": {
      "model_module": "@jupyter-widgets/controls",
      "model_module_version": "1.5.0",
      "model_name": "DescriptionStyleModel",
      "state": {
       "description_width": ""
      }
     },
     "af4b9e707269460690a54e395b39e39a": {
      "model_module": "@jupyter-widgets/controls",
      "model_module_version": "1.5.0",
      "model_name": "FloatProgressModel",
      "state": {
       "bar_style": "success",
       "layout": "IPY_MODEL_96c871e2973944009c09a0cf21d8bb03",
       "max": 642,
       "style": "IPY_MODEL_61b90d4e3eaa49b5b7c4f86a33118067",
       "value": 642
      }
     },
     "c06a4155c7ca404ab09401721c955aa5": {
      "model_module": "@jupyter-widgets/controls",
      "model_module_version": "1.5.0",
      "model_name": "HBoxModel",
      "state": {
       "children": [
        "IPY_MODEL_eb5a0acbd278483184846d009b8b6ddb",
        "IPY_MODEL_af4b9e707269460690a54e395b39e39a",
        "IPY_MODEL_19399994c047455786a6ce8928f67fd6"
       ],
       "layout": "IPY_MODEL_668722dc543e4fe1af0f1179e85893b0"
      }
     },
     "c34bf0d88b654c2a87b26909be4d67f8": {
      "model_module": "@jupyter-widgets/controls",
      "model_module_version": "1.5.0",
      "model_name": "ProgressStyleModel",
      "state": {
       "description_width": ""
      }
     },
     "d8801af793b441df9b233cc9f455b57b": {
      "model_module": "@jupyter-widgets/controls",
      "model_module_version": "1.5.0",
      "model_name": "HBoxModel",
      "state": {
       "children": [
        "IPY_MODEL_755d0dfb7ea9495aac1e85d3f2bc143d",
        "IPY_MODEL_273e00ec71f24263969b2dbb38541c7d",
        "IPY_MODEL_f910a89245b042ebaaca45b4a0a0e456"
       ],
       "layout": "IPY_MODEL_e15f890ee3024f5ebb8a31a333ed1738"
      }
     },
     "da03538e483a4ce5b26fb887b221f136": {
      "model_module": "@jupyter-widgets/base",
      "model_module_version": "1.2.0",
      "model_name": "LayoutModel",
      "state": {}
     },
     "db09e68c52974ab38c975f11c91bda8c": {
      "model_module": "@jupyter-widgets/controls",
      "model_module_version": "1.5.0",
      "model_name": "DescriptionStyleModel",
      "state": {
       "description_width": ""
      }
     },
     "e15f890ee3024f5ebb8a31a333ed1738": {
      "model_module": "@jupyter-widgets/base",
      "model_module_version": "1.2.0",
      "model_name": "LayoutModel",
      "state": {}
     },
     "eb5a0acbd278483184846d009b8b6ddb": {
      "model_module": "@jupyter-widgets/controls",
      "model_module_version": "1.5.0",
      "model_name": "HTMLModel",
      "state": {
       "layout": "IPY_MODEL_9c8f5e48006c4803b69e0e42ed86e75b",
       "style": "IPY_MODEL_28f0f3a03d414b39a19bad8a75787046",
       "value": "100%"
      }
     },
     "ee30d369aae04973bf9e80b54feea2a7": {
      "model_module": "@jupyter-widgets/base",
      "model_module_version": "1.2.0",
      "model_name": "LayoutModel",
      "state": {}
     },
     "f910a89245b042ebaaca45b4a0a0e456": {
      "model_module": "@jupyter-widgets/controls",
      "model_module_version": "1.5.0",
      "model_name": "HTMLModel",
      "state": {
       "layout": "IPY_MODEL_da03538e483a4ce5b26fb887b221f136",
       "style": "IPY_MODEL_5e7e06906f794c2199920fab1de4b8ad",
       "value": " 642/642 [00:43&lt;00:00, 14.77it/s]"
      }
     }
    },
    "version_major": 2,
    "version_minor": 0
   }
  }
 },
 "nbformat": 4,
 "nbformat_minor": 4
}
