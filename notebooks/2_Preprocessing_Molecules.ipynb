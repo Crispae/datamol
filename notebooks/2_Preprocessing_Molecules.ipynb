{
 "cells": [
  {
   "cell_type": "markdown",
   "metadata": {},
   "source": [
    "# Preprocessing Molecules\n",
    "\n",
    "You have a dataset of molecules (SMILES) and you want to preprocess it in order to clean and standardize the molecules. You can use `datamol` to easily design your own preprocessing pipeline and execute in parallel."
   ]
  },
  {
   "cell_type": "code",
   "execution_count": 1,
   "metadata": {},
   "outputs": [],
   "source": [
    "%load_ext autoreload\n",
    "%autoreload 2\n",
    "\n",
    "import matplotlib.pyplot as plt\n",
    "import pandas as pd\n",
    "\n",
    "import datamol as dm"
   ]
  },
  {
   "cell_type": "markdown",
   "metadata": {},
   "source": [
    "The pipeline is applied on every molecules of the dataset and consist on the following steps:\n",
    "\n",
    "- Convert to a mol.\n",
    "- Fix common errors in the mol.\n",
    "- Sanitize the mol.\n",
    "- Standardize the mol.\n",
    "- Generate a standardized SMILES.\n",
    "- Generate SELFIES.\n",
    "- Generate InChi and InChi key.\n",
    "\n",
    "The resulting dataset can then saved as a CSV file or an SDF file (both files will have the exact same information stored)."
   ]
  },
  {
   "cell_type": "code",
   "execution_count": 2,
   "metadata": {},
   "outputs": [
    {
     "name": "stdout",
     "output_type": "stream",
     "text": [
      "(642, 4)\n"
     ]
    },
    {
     "data": {
      "text/html": [
       "<div>\n",
       "<style scoped>\n",
       "    .dataframe tbody tr th:only-of-type {\n",
       "        vertical-align: middle;\n",
       "    }\n",
       "\n",
       "    .dataframe tbody tr th {\n",
       "        vertical-align: top;\n",
       "    }\n",
       "\n",
       "    .dataframe thead th {\n",
       "        text-align: right;\n",
       "    }\n",
       "</style>\n",
       "<table border=\"1\" class=\"dataframe\">\n",
       "  <thead>\n",
       "    <tr style=\"text-align: right;\">\n",
       "      <th></th>\n",
       "      <th>iupac</th>\n",
       "      <th>smiles</th>\n",
       "      <th>expt</th>\n",
       "      <th>calc</th>\n",
       "    </tr>\n",
       "  </thead>\n",
       "  <tbody>\n",
       "    <tr>\n",
       "      <th>0</th>\n",
       "      <td>4-methoxy-N,N-dimethyl-benzamide</td>\n",
       "      <td>CN(C)C(=O)c1ccc(cc1)OC</td>\n",
       "      <td>-11.01</td>\n",
       "      <td>-9.625</td>\n",
       "    </tr>\n",
       "    <tr>\n",
       "      <th>1</th>\n",
       "      <td>methanesulfonyl chloride</td>\n",
       "      <td>CS(=O)(=O)Cl</td>\n",
       "      <td>-4.87</td>\n",
       "      <td>-6.219</td>\n",
       "    </tr>\n",
       "    <tr>\n",
       "      <th>2</th>\n",
       "      <td>3-methylbut-1-ene</td>\n",
       "      <td>CC(C)C=C</td>\n",
       "      <td>1.83</td>\n",
       "      <td>2.452</td>\n",
       "    </tr>\n",
       "    <tr>\n",
       "      <th>3</th>\n",
       "      <td>2-ethylpyrazine</td>\n",
       "      <td>CCc1cnccn1</td>\n",
       "      <td>-5.45</td>\n",
       "      <td>-5.809</td>\n",
       "    </tr>\n",
       "    <tr>\n",
       "      <th>4</th>\n",
       "      <td>heptan-1-ol</td>\n",
       "      <td>CCCCCCCO</td>\n",
       "      <td>-4.21</td>\n",
       "      <td>-2.917</td>\n",
       "    </tr>\n",
       "  </tbody>\n",
       "</table>\n",
       "</div>"
      ],
      "text/plain": [
       "                              iupac                  smiles   expt   calc\n",
       "0  4-methoxy-N,N-dimethyl-benzamide  CN(C)C(=O)c1ccc(cc1)OC -11.01 -9.625\n",
       "1          methanesulfonyl chloride            CS(=O)(=O)Cl  -4.87 -6.219\n",
       "2                 3-methylbut-1-ene                CC(C)C=C   1.83  2.452\n",
       "3                   2-ethylpyrazine              CCc1cnccn1  -5.45 -5.809\n",
       "4                       heptan-1-ol                CCCCCCCO  -4.21 -2.917"
      ]
     },
     "execution_count": 2,
     "metadata": {},
     "output_type": "execute_result"
    }
   ],
   "source": [
    "# Load a dataset\n",
    "data = dm.data.freesolv()\n",
    "print(data.shape)\n",
    "data.head()"
   ]
  },
  {
   "cell_type": "markdown",
   "metadata": {},
   "source": [
    "### Preprocess using `pd.DataFrame.apply`\n",
    "\n",
    "Easy and classic way to perform row-wise operations on a dataframe."
   ]
  },
  {
   "cell_type": "code",
   "execution_count": 3,
   "metadata": {},
   "outputs": [
    {
     "data": {
      "text/html": [
       "<div>\n",
       "<style scoped>\n",
       "    .dataframe tbody tr th:only-of-type {\n",
       "        vertical-align: middle;\n",
       "    }\n",
       "\n",
       "    .dataframe tbody tr th {\n",
       "        vertical-align: top;\n",
       "    }\n",
       "\n",
       "    .dataframe thead th {\n",
       "        text-align: right;\n",
       "    }\n",
       "</style>\n",
       "<table border=\"1\" class=\"dataframe\">\n",
       "  <thead>\n",
       "    <tr style=\"text-align: right;\">\n",
       "      <th></th>\n",
       "      <th>iupac</th>\n",
       "      <th>smiles</th>\n",
       "      <th>expt</th>\n",
       "      <th>calc</th>\n",
       "      <th>standard_smiles</th>\n",
       "      <th>selfies</th>\n",
       "      <th>inchi</th>\n",
       "      <th>inchikey</th>\n",
       "    </tr>\n",
       "  </thead>\n",
       "  <tbody>\n",
       "    <tr>\n",
       "      <th>0</th>\n",
       "      <td>4-methoxy-N,N-dimethyl-benzamide</td>\n",
       "      <td>CN(C)C(=O)c1ccc(cc1)OC</td>\n",
       "      <td>-11.01</td>\n",
       "      <td>-9.625</td>\n",
       "      <td>COc1ccc(C(=O)N(C)C)cc1</td>\n",
       "      <td>[C][O][C][=C][C][=C][Branch1_1][Branch2_3][C][...</td>\n",
       "      <td>InChI=1S/C10H13NO2/c1-11(2)10(12)8-4-6-9(13-3)...</td>\n",
       "      <td>OCGXPFSUJVHRHA-UHFFFAOYSA-N</td>\n",
       "    </tr>\n",
       "    <tr>\n",
       "      <th>1</th>\n",
       "      <td>methanesulfonyl chloride</td>\n",
       "      <td>CS(=O)(=O)Cl</td>\n",
       "      <td>-4.87</td>\n",
       "      <td>-6.219</td>\n",
       "      <td>CS(=O)(=O)Cl</td>\n",
       "      <td>[C][S][Branch1_2][C][=O][Branch1_2][C][=O][Cl]</td>\n",
       "      <td>InChI=1S/CH3ClO2S/c1-5(2,3)4/h1H3</td>\n",
       "      <td>QARBMVPHQWIHKH-UHFFFAOYSA-N</td>\n",
       "    </tr>\n",
       "    <tr>\n",
       "      <th>2</th>\n",
       "      <td>3-methylbut-1-ene</td>\n",
       "      <td>CC(C)C=C</td>\n",
       "      <td>1.83</td>\n",
       "      <td>2.452</td>\n",
       "      <td>C=CC(C)C</td>\n",
       "      <td>[C][=C][C][Branch1_1][C][C][C]</td>\n",
       "      <td>InChI=1S/C5H10/c1-4-5(2)3/h4-5H,1H2,2-3H3</td>\n",
       "      <td>YHQXBTXEYZIYOV-UHFFFAOYSA-N</td>\n",
       "    </tr>\n",
       "    <tr>\n",
       "      <th>3</th>\n",
       "      <td>2-ethylpyrazine</td>\n",
       "      <td>CCc1cnccn1</td>\n",
       "      <td>-5.45</td>\n",
       "      <td>-5.809</td>\n",
       "      <td>CCc1cnccn1</td>\n",
       "      <td>[C][C][C][=C][N][=C][C][=N][Ring1][Branch1_2]</td>\n",
       "      <td>InChI=1S/C6H8N2/c1-2-6-5-7-3-4-8-6/h3-5H,2H2,1H3</td>\n",
       "      <td>KVFIJIWMDBAGDP-UHFFFAOYSA-N</td>\n",
       "    </tr>\n",
       "    <tr>\n",
       "      <th>4</th>\n",
       "      <td>heptan-1-ol</td>\n",
       "      <td>CCCCCCCO</td>\n",
       "      <td>-4.21</td>\n",
       "      <td>-2.917</td>\n",
       "      <td>CCCCCCCO</td>\n",
       "      <td>[C][C][C][C][C][C][C][O]</td>\n",
       "      <td>InChI=1S/C7H16O/c1-2-3-4-5-6-7-8/h8H,2-7H2,1H3</td>\n",
       "      <td>BBMCTIGTTCKYKF-UHFFFAOYSA-N</td>\n",
       "    </tr>\n",
       "  </tbody>\n",
       "</table>\n",
       "</div>"
      ],
      "text/plain": [
       "                              iupac                  smiles   expt   calc  \\\n",
       "0  4-methoxy-N,N-dimethyl-benzamide  CN(C)C(=O)c1ccc(cc1)OC -11.01 -9.625   \n",
       "1          methanesulfonyl chloride            CS(=O)(=O)Cl  -4.87 -6.219   \n",
       "2                 3-methylbut-1-ene                CC(C)C=C   1.83  2.452   \n",
       "3                   2-ethylpyrazine              CCc1cnccn1  -5.45 -5.809   \n",
       "4                       heptan-1-ol                CCCCCCCO  -4.21 -2.917   \n",
       "\n",
       "          standard_smiles                                            selfies  \\\n",
       "0  COc1ccc(C(=O)N(C)C)cc1  [C][O][C][=C][C][=C][Branch1_1][Branch2_3][C][...   \n",
       "1            CS(=O)(=O)Cl     [C][S][Branch1_2][C][=O][Branch1_2][C][=O][Cl]   \n",
       "2                C=CC(C)C                     [C][=C][C][Branch1_1][C][C][C]   \n",
       "3              CCc1cnccn1      [C][C][C][=C][N][=C][C][=N][Ring1][Branch1_2]   \n",
       "4                CCCCCCCO                           [C][C][C][C][C][C][C][O]   \n",
       "\n",
       "                                               inchi  \\\n",
       "0  InChI=1S/C10H13NO2/c1-11(2)10(12)8-4-6-9(13-3)...   \n",
       "1                  InChI=1S/CH3ClO2S/c1-5(2,3)4/h1H3   \n",
       "2          InChI=1S/C5H10/c1-4-5(2)3/h4-5H,1H2,2-3H3   \n",
       "3   InChI=1S/C6H8N2/c1-2-6-5-7-3-4-8-6/h3-5H,2H2,1H3   \n",
       "4     InChI=1S/C7H16O/c1-2-3-4-5-6-7-8/h8H,2-7H2,1H3   \n",
       "\n",
       "                      inchikey  \n",
       "0  OCGXPFSUJVHRHA-UHFFFAOYSA-N  \n",
       "1  QARBMVPHQWIHKH-UHFFFAOYSA-N  \n",
       "2  YHQXBTXEYZIYOV-UHFFFAOYSA-N  \n",
       "3  KVFIJIWMDBAGDP-UHFFFAOYSA-N  \n",
       "4  BBMCTIGTTCKYKF-UHFFFAOYSA-N  "
      ]
     },
     "execution_count": 3,
     "metadata": {},
     "output_type": "execute_result"
    }
   ],
   "source": [
    "smiles_column = \"smiles\"\n",
    "\n",
    "def _preprocess(row):\n",
    "    mol = dm.to_mol(row[smiles_column], ordered=True)\n",
    "    mol = dm.fix_mol(mol)\n",
    "    mol = dm.sanitize_mol(mol, sanifix=True, charge_neutral=False)\n",
    "    mol = dm.standardize_mol(mol, disconnect_metals=False, normalize=True, reionize=True, uncharge=False, stereo=True)\n",
    "\n",
    "    row[\"standard_smiles\"] = dm.standardize_smiles(dm.to_smiles(mol))\n",
    "    row[\"selfies\"] = dm.to_selfies(mol)\n",
    "    row[\"inchi\"] = dm.to_inchi(mol)\n",
    "    row[\"inchikey\"] = dm.to_inchikey(mol)\n",
    "    return row\n",
    "\n",
    "with dm.disable_rdkit_log():\n",
    "    data_clean = data.apply(_preprocess, axis=1)\n",
    "    \n",
    "data_clean.head()"
   ]
  },
  {
   "cell_type": "markdown",
   "metadata": {},
   "source": [
    "### Preprocess using `dm.parallelized`\n",
    "\n",
    "Parallelize the preprocessing. This approach will only be faster if your dataset is very large."
   ]
  },
  {
   "cell_type": "code",
   "execution_count": 4,
   "metadata": {},
   "outputs": [
    {
     "data": {
      "application/vnd.jupyter.widget-view+json": {
       "model_id": "441ff9d28ed9439189a48ac904a589ea",
       "version_major": 2,
       "version_minor": 0
      },
      "text/plain": [
       "HBox(children=(HTML(value=''), FloatProgress(value=0.0, max=642.0), HTML(value='')))"
      ]
     },
     "metadata": {},
     "output_type": "display_data"
    },
    {
     "name": "stdout",
     "output_type": "stream",
     "text": [
      "\n"
     ]
    },
    {
     "data": {
      "text/html": [
       "<div>\n",
       "<style scoped>\n",
       "    .dataframe tbody tr th:only-of-type {\n",
       "        vertical-align: middle;\n",
       "    }\n",
       "\n",
       "    .dataframe tbody tr th {\n",
       "        vertical-align: top;\n",
       "    }\n",
       "\n",
       "    .dataframe thead th {\n",
       "        text-align: right;\n",
       "    }\n",
       "</style>\n",
       "<table border=\"1\" class=\"dataframe\">\n",
       "  <thead>\n",
       "    <tr style=\"text-align: right;\">\n",
       "      <th></th>\n",
       "      <th>iupac</th>\n",
       "      <th>smiles</th>\n",
       "      <th>expt</th>\n",
       "      <th>calc</th>\n",
       "      <th>standard_smiles</th>\n",
       "      <th>selfies</th>\n",
       "      <th>inchi</th>\n",
       "      <th>inchikey</th>\n",
       "    </tr>\n",
       "  </thead>\n",
       "  <tbody>\n",
       "    <tr>\n",
       "      <th>0</th>\n",
       "      <td>4-methoxy-N,N-dimethyl-benzamide</td>\n",
       "      <td>CN(C)C(=O)c1ccc(cc1)OC</td>\n",
       "      <td>-11.01</td>\n",
       "      <td>-9.625</td>\n",
       "      <td>COc1ccc(C(=O)N(C)C)cc1</td>\n",
       "      <td>[C][O][C][=C][C][=C][Branch1_1][Branch2_3][C][...</td>\n",
       "      <td>InChI=1S/C10H13NO2/c1-11(2)10(12)8-4-6-9(13-3)...</td>\n",
       "      <td>OCGXPFSUJVHRHA-UHFFFAOYSA-N</td>\n",
       "    </tr>\n",
       "    <tr>\n",
       "      <th>1</th>\n",
       "      <td>methanesulfonyl chloride</td>\n",
       "      <td>CS(=O)(=O)Cl</td>\n",
       "      <td>-4.87</td>\n",
       "      <td>-6.219</td>\n",
       "      <td>CS(=O)(=O)Cl</td>\n",
       "      <td>[C][S][Branch1_2][C][=O][Branch1_2][C][=O][Cl]</td>\n",
       "      <td>InChI=1S/CH3ClO2S/c1-5(2,3)4/h1H3</td>\n",
       "      <td>QARBMVPHQWIHKH-UHFFFAOYSA-N</td>\n",
       "    </tr>\n",
       "    <tr>\n",
       "      <th>2</th>\n",
       "      <td>3-methylbut-1-ene</td>\n",
       "      <td>CC(C)C=C</td>\n",
       "      <td>1.83</td>\n",
       "      <td>2.452</td>\n",
       "      <td>C=CC(C)C</td>\n",
       "      <td>[C][=C][C][Branch1_1][C][C][C]</td>\n",
       "      <td>InChI=1S/C5H10/c1-4-5(2)3/h4-5H,1H2,2-3H3</td>\n",
       "      <td>YHQXBTXEYZIYOV-UHFFFAOYSA-N</td>\n",
       "    </tr>\n",
       "    <tr>\n",
       "      <th>3</th>\n",
       "      <td>2-ethylpyrazine</td>\n",
       "      <td>CCc1cnccn1</td>\n",
       "      <td>-5.45</td>\n",
       "      <td>-5.809</td>\n",
       "      <td>CCc1cnccn1</td>\n",
       "      <td>[C][C][C][=C][N][=C][C][=N][Ring1][Branch1_2]</td>\n",
       "      <td>InChI=1S/C6H8N2/c1-2-6-5-7-3-4-8-6/h3-5H,2H2,1H3</td>\n",
       "      <td>KVFIJIWMDBAGDP-UHFFFAOYSA-N</td>\n",
       "    </tr>\n",
       "    <tr>\n",
       "      <th>4</th>\n",
       "      <td>heptan-1-ol</td>\n",
       "      <td>CCCCCCCO</td>\n",
       "      <td>-4.21</td>\n",
       "      <td>-2.917</td>\n",
       "      <td>CCCCCCCO</td>\n",
       "      <td>[C][C][C][C][C][C][C][O]</td>\n",
       "      <td>InChI=1S/C7H16O/c1-2-3-4-5-6-7-8/h8H,2-7H2,1H3</td>\n",
       "      <td>BBMCTIGTTCKYKF-UHFFFAOYSA-N</td>\n",
       "    </tr>\n",
       "  </tbody>\n",
       "</table>\n",
       "</div>"
      ],
      "text/plain": [
       "                              iupac                  smiles   expt   calc  \\\n",
       "0  4-methoxy-N,N-dimethyl-benzamide  CN(C)C(=O)c1ccc(cc1)OC -11.01 -9.625   \n",
       "1          methanesulfonyl chloride            CS(=O)(=O)Cl  -4.87 -6.219   \n",
       "2                 3-methylbut-1-ene                CC(C)C=C   1.83  2.452   \n",
       "3                   2-ethylpyrazine              CCc1cnccn1  -5.45 -5.809   \n",
       "4                       heptan-1-ol                CCCCCCCO  -4.21 -2.917   \n",
       "\n",
       "          standard_smiles                                            selfies  \\\n",
       "0  COc1ccc(C(=O)N(C)C)cc1  [C][O][C][=C][C][=C][Branch1_1][Branch2_3][C][...   \n",
       "1            CS(=O)(=O)Cl     [C][S][Branch1_2][C][=O][Branch1_2][C][=O][Cl]   \n",
       "2                C=CC(C)C                     [C][=C][C][Branch1_1][C][C][C]   \n",
       "3              CCc1cnccn1      [C][C][C][=C][N][=C][C][=N][Ring1][Branch1_2]   \n",
       "4                CCCCCCCO                           [C][C][C][C][C][C][C][O]   \n",
       "\n",
       "                                               inchi  \\\n",
       "0  InChI=1S/C10H13NO2/c1-11(2)10(12)8-4-6-9(13-3)...   \n",
       "1                  InChI=1S/CH3ClO2S/c1-5(2,3)4/h1H3   \n",
       "2          InChI=1S/C5H10/c1-4-5(2)3/h4-5H,1H2,2-3H3   \n",
       "3   InChI=1S/C6H8N2/c1-2-6-5-7-3-4-8-6/h3-5H,2H2,1H3   \n",
       "4     InChI=1S/C7H16O/c1-2-3-4-5-6-7-8/h8H,2-7H2,1H3   \n",
       "\n",
       "                      inchikey  \n",
       "0  OCGXPFSUJVHRHA-UHFFFAOYSA-N  \n",
       "1  QARBMVPHQWIHKH-UHFFFAOYSA-N  \n",
       "2  YHQXBTXEYZIYOV-UHFFFAOYSA-N  \n",
       "3  KVFIJIWMDBAGDP-UHFFFAOYSA-N  \n",
       "4  BBMCTIGTTCKYKF-UHFFFAOYSA-N  "
      ]
     },
     "execution_count": 4,
     "metadata": {},
     "output_type": "execute_result"
    }
   ],
   "source": [
    "smiles_column = \"smiles\"\n",
    "\n",
    "def _preprocess(i, row):\n",
    "    mol = dm.to_mol(row[smiles_column], ordered=True)\n",
    "    mol = dm.fix_mol(mol)\n",
    "    mol = dm.sanitize_mol(mol, sanifix=True, charge_neutral=False)\n",
    "    mol = dm.standardize_mol(mol, disconnect_metals=False, normalize=True, reionize=True, uncharge=False, stereo=True)\n",
    "\n",
    "    row[\"standard_smiles\"] = dm.standardize_smiles(dm.to_smiles(mol))\n",
    "    row[\"selfies\"] = dm.to_selfies(mol)\n",
    "    row[\"inchi\"] = dm.to_inchi(mol)\n",
    "    row[\"inchikey\"] = dm.to_inchikey(mol)\n",
    "    return row\n",
    "\n",
    "with dm.disable_rdkit_log():\n",
    "    data_clean = dm.parallelized(_preprocess, list(data.iterrows()), arg_type='args', progress=True)\n",
    "    data_clean = pd.DataFrame(data_clean)\n",
    "data_clean.head()"
   ]
  },
  {
   "cell_type": "markdown",
   "metadata": {},
   "source": [
    "### Visualize"
   ]
  },
  {
   "cell_type": "code",
   "execution_count": 15,
   "metadata": {},
   "outputs": [
    {
     "data": {
      "image/png": "[encoded data removed]",
      "text/plain": [
       "<IPython.core.display.Image object>"
      ]
     },
     "execution_count": 15,
     "metadata": {},
     "output_type": "execute_result"
    }
   ],
   "source": [
    "smiles = data_clean.sample(n=8, random_state=19)[\"standard_smiles\"].tolist()\n",
    "mols = [dm.to_mol(s) for s in smiles]\n",
    "dm.viz.to_image(mols, legends=smiles, mol_size=(200, 200))"
   ]
  },
  {
   "cell_type": "markdown",
   "metadata": {},
   "source": [
    "### Serialize the cleaned dataset"
   ]
  },
  {
   "cell_type": "code",
   "execution_count": null,
   "metadata": {},
   "outputs": [],
   "source": [
    "# Save as CSV\n",
    "# data_clean.to_csv(\"/my/path\")\n",
    "\n",
    "# Or save as an SDF\n",
    "# dm.to_sdf(data_clean, \"/my/path\", smiles_column=\"standard_smiles\")"
   ]
  },
  {
   "cell_type": "code",
   "execution_count": null,
   "metadata": {},
   "outputs": [],
   "source": []
  }
 ],
 "metadata": {
  "kernelspec": {
   "display_name": "Python [conda env:datamol]",
   "language": "python",
   "name": "conda-env-datamol-py"
  },
  "language_info": {
   "codemirror_mode": {
    "name": "ipython",
    "version": 3
   },
   "file_extension": ".py",
   "mimetype": "text/x-python",
   "name": "python",
   "nbconvert_exporter": "python",
   "pygments_lexer": "ipython3",
   "version": "3.7.8"
  },
  "widgets": {
   "application/vnd.jupyter.widget-state+json": {
    "state": {
     "32afcb08c9834f7fba3d10186a1c890c": {
      "model_module": "@jupyter-widgets/base",
      "model_module_version": "1.2.0",
      "model_name": "LayoutModel",
      "state": {}
     },
     "441ff9d28ed9439189a48ac904a589ea": {
      "model_module": "@jupyter-widgets/controls",
      "model_module_version": "1.5.0",
      "model_name": "HBoxModel",
      "state": {
       "children": [
        "IPY_MODEL_8aa1f26e897442b0b7a115a5a703fccc",
        "IPY_MODEL_fc25e49bb9844be599ec0ed18246dacf",
        "IPY_MODEL_898d34d861354fb9b5e6b4079dbf695e"
       ],
       "layout": "IPY_MODEL_c277e1802b4c416586cd94a238a18124"
      }
     },
     "4589dd19a3b24dd5bab575c7b7759b4e": {
      "model_module": "@jupyter-widgets/controls",
      "model_module_version": "1.5.0",
      "model_name": "DescriptionStyleModel",
      "state": {
       "description_width": ""
      }
     },
     "5e1ebdf934ab43f38587169d7e277624": {
      "model_module": "@jupyter-widgets/base",
      "model_module_version": "1.2.0",
      "model_name": "LayoutModel",
      "state": {}
     },
     "7ea922923318434bb2b5e3d3e2a175b5": {
      "model_module": "@jupyter-widgets/controls",
      "model_module_version": "1.5.0",
      "model_name": "ProgressStyleModel",
      "state": {
       "description_width": ""
      }
     },
     "898d34d861354fb9b5e6b4079dbf695e": {
      "model_module": "@jupyter-widgets/controls",
      "model_module_version": "1.5.0",
      "model_name": "HTMLModel",
      "state": {
       "layout": "IPY_MODEL_32afcb08c9834f7fba3d10186a1c890c",
       "style": "IPY_MODEL_4589dd19a3b24dd5bab575c7b7759b4e",
       "value": " 642/642 [00:02&lt;00:00, 306.73it/s]"
      }
     },
     "8aa1f26e897442b0b7a115a5a703fccc": {
      "model_module": "@jupyter-widgets/controls",
      "model_module_version": "1.5.0",
      "model_name": "HTMLModel",
      "state": {
       "layout": "IPY_MODEL_e4cab4cf1f7e46ffa3290788436d7928",
       "style": "IPY_MODEL_b612053a7c674f039ccc0b697891e1c4",
       "value": "100%"
      }
     },
     "b612053a7c674f039ccc0b697891e1c4": {
      "model_module": "@jupyter-widgets/controls",
      "model_module_version": "1.5.0",
      "model_name": "DescriptionStyleModel",
      "state": {
       "description_width": ""
      }
     },
     "c277e1802b4c416586cd94a238a18124": {
      "model_module": "@jupyter-widgets/base",
      "model_module_version": "1.2.0",
      "model_name": "LayoutModel",
      "state": {}
     },
     "e4cab4cf1f7e46ffa3290788436d7928": {
      "model_module": "@jupyter-widgets/base",
      "model_module_version": "1.2.0",
      "model_name": "LayoutModel",
      "state": {}
     },
     "fc25e49bb9844be599ec0ed18246dacf": {
      "model_module": "@jupyter-widgets/controls",
      "model_module_version": "1.5.0",
      "model_name": "FloatProgressModel",
      "state": {
       "bar_style": "success",
       "layout": "IPY_MODEL_5e1ebdf934ab43f38587169d7e277624",
       "max": 642,
       "style": "IPY_MODEL_7ea922923318434bb2b5e3d3e2a175b5",
       "value": 642
      }
     }
    },
    "version_major": 2,
    "version_minor": 0
   }
  }
 },
 "nbformat": 4,
 "nbformat_minor": 4
}
